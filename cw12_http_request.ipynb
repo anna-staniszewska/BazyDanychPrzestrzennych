{
 "cells": [
  {
   "cell_type": "code",
   "execution_count": 1,
   "id": "44a3bb1a-cb1e-4284-bde8-e65b0d2630a3",
   "metadata": {},
   "outputs": [],
   "source": [
    "import requests"
   ]
  },
  {
   "cell_type": "code",
   "execution_count": 2,
   "id": "a649dfc2-5c35-49a7-8633-102d5439051c",
   "metadata": {},
   "outputs": [],
   "source": [
    "url = 'http://localhost:2654/fmedatadownload/Dashboards/cw10.fmw?pass_sender=aaa&API=0416de44-a0fd-4f16-a9cd-aa4b1268a113&e-mail_klienta=anis12345%40op.pl&powiat=Świnoujście&cloud_coverage=20&date_start=20231201&date_finish=20231231&SourceDataset_SHAPEFILE=D%3A%5Cstudia%5CSemestr_5%5CBazyDanychPrzestrzennych%5Ccw10%5Cpowiaty.shp&DestDataset_TIFF=D%3A%5Cstudia%5CSemestr_5%5CBazyDanychPrzestrzennych%5Ccw10&opt_showresult=false&opt_servicemode=sync'\n",
    "myobj = {'Authorization': 'fmetoken token=75b09380c08ffd23b84488f62c4c0bbe2de2b27a'}"
   ]
  },
  {
   "cell_type": "code",
   "execution_count": 3,
   "id": "6b1a1935-447b-4ee8-98e5-498dbae6c195",
   "metadata": {},
   "outputs": [],
   "source": [
    "x = requests.post(url, headers = myobj)"
   ]
  },
  {
   "cell_type": "code",
   "execution_count": 4,
   "id": "933aef74-5cec-4b07-adf5-93ea97da0775",
   "metadata": {},
   "outputs": [
    {
     "name": "stdout",
     "output_type": "stream",
     "text": [
      "<html>\n",
      "    <head>\n",
      "        <META http-equiv=\"Content-Type\" content=\"text/html; charset=UTF-8\">\n",
      "        <meta http-equiv=\"Content-Type\" content=\"text/html; charset=windows-1252\">\n",
      "        <link rel=\"shortcut icon\" href=\"/fmedatadownload/images/favicon-fme-flow.svg\">\n",
      "        <link rel=\"stylesheet\" type=\"text/css\" href=\"/fmedatadownload/styles/formatting.css\">\n",
      "        <link rel=\"stylesheet\" type=\"text/css\" href=\"/fmedatadownload/styles/formatting-layer2.css\">\n",
      "        <link rel=\"stylesheet\" type=\"text/css\" href=\"/fmejobsubmitter/styles/fontello.css\">\n",
      "        <title>FME Data Download Service</title>\n",
      "    </head>\n",
      "    <body>\n",
      "        <div id=\"container\">\n",
      "            <div id=\"top_banner\">\n",
      "                <div id=\"utility_links\"></div>\n",
      "            </div>\n",
      "            <div id=\"main_container\">\n",
      "                <div id=\"main_content\">\n",
      "                    <div id=\"inner_content\">\n",
      "                        <div>\n",
      "                            <center>\n",
      "                                <i class=\"thin-icon success_header fa-2x icon-ok-circled2\"></i>\n",
      "                                <h1 style=\"display: inline;\">FME Data Download Service Completed Successfully </h1>\n",
      "                            </center>\n",
      "                        </div>\n",
      "                        <p>Please click the following link to download the result of your transformation</p>\n",
      "                        <p>\n",
      "                            <a href=\"http://localhost:2654/fmedatadownload/results/FME_03087635_1705707433751_26080.zip\">http://localhost:2654/fmedatadownload/results/FME_03087635_1705707433751_26080.zip</a>\n",
      "                        </p>\n",
      "                    </div>\n",
      "                </div>\n",
      "            </div>\n",
      "        </div>\n",
      "        <div id=\"navigation\"></div>\n",
      "        <div id=\"logo\">\n",
      "            <img src=\"/fmedatadownload/images/Logo-FME-Flow-White-Text.svg\" class=\"safe_logo\" style=\"height: 1.5em; vertical-align:middle\" border=\"0\" alt=\"FME Server\">\n",
      "        </div>\n",
      "    </body>\n",
      "</html>\n",
      "\n"
     ]
    }
   ],
   "source": [
    "print(x.text)"
   ]
  },
  {
   "cell_type": "code",
   "execution_count": null,
   "id": "c91f5fa2-935c-4b11-9634-ee1d42f45e99",
   "metadata": {},
   "outputs": [],
   "source": []
  }
 ],
 "metadata": {
  "kernelspec": {
   "display_name": "Python 3 (ipykernel)",
   "language": "python",
   "name": "python3"
  },
  "language_info": {
   "codemirror_mode": {
    "name": "ipython",
    "version": 3
   },
   "file_extension": ".py",
   "mimetype": "text/x-python",
   "name": "python",
   "nbconvert_exporter": "python",
   "pygments_lexer": "ipython3",
   "version": "3.11.1"
  }
 },
 "nbformat": 4,
 "nbformat_minor": 5
}
